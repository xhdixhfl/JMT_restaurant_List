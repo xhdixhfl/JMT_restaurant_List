{
 "cells": [
  {
   "cell_type": "markdown",
   "id": "8b6fef51-cdd1-4b4f-8bb5-af2a74c41c16",
   "metadata": {},
   "source": [
    "# 맛집 검색 및 추천 프로그램"
   ]
  },
  {
   "cell_type": "code",
   "execution_count": 36,
   "id": "3fb0ed4f-8faa-43ad-9b15-3f0dd16c6318",
   "metadata": {},
   "outputs": [],
   "source": [
    "RT_List = []\n",
    "# 식당 정보가 모인 부모클래스\n",
    "class RT:\n",
    "    name = str()\n",
    "    sort = str()\n",
    "    loc = str()\n",
    "    \n",
    "    def __init__(self, name, sort, loc):  # 밑에 함수에 들어갈 변수이름이랑도 맞춰야할듯 ..(RT_Name)\n",
    "        self.name = name\n",
    "        self.sort = sort\n",
    "        self.loc = loc\n",
    "    \n",
    "    def getName(self):  # 식당이름을 반환해주는 메서드\n",
    "        return self.name\n",
    "    \n",
    "    \n",
    "    \n",
    "    \n",
    "# 하위 클래스로 후기관련 클래스\n",
    "class RV(RT): # review 약자\n",
    "    ID = 'none'\n",
    "    gender = 'none'\n",
    "    age = int()  # age랑star는 평균을 낼수도 있으니 int로..\n",
    "    star = int()\n",
    "    reivew = '잘 먹었습니다.'\n",
    "    \n",
    "    def __init__(self, name, ID, gender, age, star, reivew):\n",
    "        RT.__init__(self, name)\n",
    "        self.ID = ID\n",
    "        self.gender = gender\n",
    "        self.age = age\n",
    "        self.star = star\n",
    "        self.reivew = review\n",
    "    \n",
    "    def avgStar(self): # 별점 평균\n",
    "        pass \n",
    "\n",
    "    def avgAge(self): # 나이 평균\n",
    "        pass "
   ]
  },
  {
   "cell_type": "code",
   "execution_count": 37,
   "id": "09010f55",
   "metadata": {},
   "outputs": [],
   "source": [
    "r1 = RT(\"개미집 부산대점\", \"한식\", \"금정구\")"
   ]
  },
  {
   "cell_type": "code",
   "execution_count": 38,
   "id": "7c0b65b1",
   "metadata": {},
   "outputs": [],
   "source": [
    "# 부속적으로 필요한 함수들\n",
    "#  식당이름 재확인함수\n",
    "def ckName():\n",
    "    check = 0\n",
    "    print(\"%s 이/가 후기를 작성하고자 하는 식당이 맞습니까?\" % name)\n",
    "    print(\"<1> 네                   <2> 아니오\")\n",
    "    menu = input(\"선택 : \")\n",
    "    if menu == \"1\":\n",
    "        ID = input(\"닉네임을 입력하세요(익명으로 할시 빈칸): \")\n",
    "        gender = input(\"성별을 남 또는 여로 입력하세요 :\")\n",
    "        age = int(input(\"나이대를 입력하세요(생략해도 괜춘) : \"))\n",
    "        star = int(input(\"1~5사이의 수로 별점을 평가해주세요 : \"))\n",
    "        review = input(\"간략히 후기를 작성해주세요 : \")\n",
    "        RT_List.append(name, ID, gender, age, star, review)\n",
    "        print(\"후기등록이 완료되었습니다.\")\n",
    "        check = 1\n",
    "       # return pass # 처음페이지로\n",
    "    elif menu == \"2\":\n",
    "        print(\"처음화면으로 돌아갑니다.\")\n",
    "        check = 2\n",
    "        #reutrn 처음화면으로\n",
    "    else:\n",
    "        print(\"잘못된 선택입니다. 다시 선택해주세요\")\n",
    "        check = 0\n",
    "        return ckName()\n",
    "        \n",
    "    \n",
    "# 신규 등록시 이미 존재하는 경우 처리 함수\n",
    "def exName():\n",
    "    check = 0\n",
    "    print(\"이미 등록되어있는 가게명입니다. 계속해서 진행하시겠습니까?\")\n",
    "    print(\"<1. 예>                      <2. 아니오>\")\n",
    "    menu = input(\"선택 : \")\n",
    "    if menu == \"1\":\n",
    "        rtInfo() # 가게 정보 입력하는 함수\n",
    "        check = 1\n",
    "    elif menu == \"2\":\n",
    "        print(\"처음 화면으로 돌아갑니다.\")\n",
    "        check = 2\n",
    "            # 리턴 홈페이지\n",
    "    else:\n",
    "        print(\"잘못된 번호 입니다. 다시 입력해주세요.\")\n",
    "        check = 0\n",
    "        return exName()\n",
    "    \n",
    "    \n",
    "# 신규 등록시 사용가능한 가게명인 경우 처리 함수\n",
    "def okName():\n",
    "    check = 0\n",
    "    print(\"사용가능한 가게명입니다. 등록을 시작하시겠습니까?\")\n",
    "    print(\"<1. 예>                      <2. 아니오>\")\n",
    "    menu = input(\"선택 : \")\n",
    "    if menu == \"1\":\n",
    "        rtInfo()\n",
    "        check = 1\n",
    "    elif menu == \"2\":\n",
    "        print(\"처음 화면으로 돌아갑니다.\")\n",
    "        check = 2\n",
    "            # 리턴 홈페이지\n",
    "        \n",
    "    else:\n",
    "        print(\"잘못된 번호 입니다. 다시 입력해주세요.\")\n",
    "        check = 0\n",
    "        return exName()\n",
    "        \n",
    "    \n",
    "# 가게 정보를 등록하는 함수\n",
    "def rtInfo():\n",
    "    name = input(\"가게명을 다시 한 번 입력하세요 : \")\n",
    "    sort = input(\"가게 업종 또는 대표메뉴를 입력하세요 : \")\n",
    "    loc = input(\"대략적인 가게 위치를 입력하세요 : \")\n",
    "    new = RT(name, sort, loc)\n",
    "    # 리스트 추가해주는게 필요한데,,\n",
    "    RT_List.append(new)\n",
    "    print(\"*신규등록이 완료되었습니다.*\")"
   ]
  },
  {
   "cell_type": "code",
   "execution_count": 39,
   "id": "704f6bdf-5a3f-470f-9897-84e5a0d453d0",
   "metadata": {},
   "outputs": [],
   "source": [
    "# 메인함수들\n",
    "        \n",
    "# 맛집후기 입력 함수\n",
    "def RV_Input():\n",
    "    name = input(\"후기를 남기고자 하는 식당의 이름을 호점 포함해서 입력하세요 : \")\n",
    "    \n",
    "    if name in RT_List:\n",
    "        ckName()\n",
    "        \n",
    "    else:\n",
    "        print(\"해당식당은 존재하지 않습니다. 이름을 다시 한번 확인하시거나, 가게 등록후 이용해주세요.\")\n",
    "        #return pass # 처음 페이지로, 아니면 선택지주면서 신규등록 또는 메인화면으로 돌아가도록\n",
    "        \n",
    "        \n",
    "# 식당 신규등록 함수\n",
    "def RT_Input():\n",
    "    name = input(\"신규등록할 가게명을 입력하세요 : \")\n",
    "    \n",
    "    if name in RT_List:\n",
    "        exName()\n",
    "        \n",
    "    elif name not in RT_List:\n",
    "        okName()\n",
    "        "
   ]
  },
  {
   "cell_type": "code",
   "execution_count": 40,
   "id": "6bca06f1",
   "metadata": {},
   "outputs": [
    {
     "name": "stdout",
     "output_type": "stream",
     "text": [
      "신규등록할 가게명을 입력하세요 : 개미집 부산대점\n",
      "사용가능한 가게명입니다. 등록을 시작하시겠습니까?\n",
      "<1. 예>                      <2. 아니오>\n",
      "선택 : 2\n",
      "처음 화면으로 돌아갑니다.\n"
     ]
    }
   ],
   "source": [
    "RT_Input()"
   ]
  },
  {
   "cell_type": "code",
   "execution_count": 42,
   "id": "14d4dea2",
   "metadata": {},
   "outputs": [
    {
     "name": "stdout",
     "output_type": "stream",
     "text": [
      "후기를 남기고자 하는 식당의 이름을 호점 포함해서 입력하세요 : 개미집 부산대점\n",
      "해당식당은 존재하지 않습니다. 이름을 다시 한번 확인하시거나, 가게 등록후 이용해주세요.\n"
     ]
    }
   ],
   "source": [
    "RV_Input()"
   ]
  },
  {
   "cell_type": "code",
   "execution_count": 15,
   "id": "703c1ee1-d083-4971-8ed7-046767c52573",
   "metadata": {},
   "outputs": [],
   "source": [
    "RT_List = []\n",
    "\n",
    "a = (\"개미집 부산대점\", \"한식\", \"aaa\", \"여\", 10, 3, \"나쁘지 않음\", \"금정구\")\n",
    "RT_List.append(a)\n",
    "# 메뉴\n",
    "# def RT_Menu():\n",
    "#     while True:\n",
    "#         print(\"\\n== 너를 위한 맛집 ==\")\n",
    "#         print(\"1. 맛집 후기 작성\")\n",
    "#         print(\"2. 맛집 등록\")\n",
    "#          # 검색, 랜덤, 종료\n",
    "\n",
    "        \n",
    "#         num = int(input(\"고르실 메뉴 번호를 입력하세요 :\"))\n",
    "\n",
    "        \n",
    "        \n",
    "        \n",
    "        \n",
    "\n",
    "#         RT_Name = input('등록할 식당이름과 호점, 종류를 적어주세요. : '). split(,)\n",
    "              \n",
    "#         RT_List.append(RT_name)\n",
    "        \n",
    "         \n",
    "        \n",
    "        \n",
    "        \n",
    "    \n",
    "    \n",
    "# def RT_Name\n",
    "    "
   ]
  },
  {
   "cell_type": "code",
   "execution_count": null,
   "id": "a61b25bb",
   "metadata": {},
   "outputs": [],
   "source": [
    "# 부속적으로 필요한 함수들\n",
    "#  식당이름 재확인함수\n",
    "def ckName():\n",
    "    print(\"%s 이/가 후기를 작성하고자 하는 식당이 맞습니까?\" %name)\n",
    "    print(\"<1> 네                   <2> 아니오\")\n",
    "    menu = input(\"선택 : \")\n",
    "    if menu == \"1\":\n",
    "        ID = input(\"닉네임을 입력하세요(익명으로 할시 빈칸): \")\n",
    "        gender = input(\"성별을 남 또는 여로 입력하세요 :\")\n",
    "        age = int(input(\"나이대를 입력하세요(생략해도 괜춘) : \"))\n",
    "        star = int(input(\"1~5사이의 수로 별점을 평가해주세요 : \"))\n",
    "        review = input(\"간략히 후기를 작성해주세요 : \")\n",
    "        RT_List.append(name, ID, gender, age, star, review)\n",
    "        print(\"후기등록이 완료되었습니다.\")\n",
    "       # return pass # 처음페이지로"
   ]
  },
  {
   "cell_type": "code",
   "execution_count": 6,
   "id": "14983464",
   "metadata": {},
   "outputs": [
    {
     "ename": "TypeError",
     "evalue": "__init__() missing 2 required positional arguments: 'review' and 'loc'",
     "output_type": "error",
     "traceback": [
      "\u001b[1;31m---------------------------------------------------------------------------\u001b[0m",
      "\u001b[1;31mTypeError\u001b[0m                                 Traceback (most recent call last)",
      "Input \u001b[1;32mIn [6]\u001b[0m, in \u001b[0;36m<cell line: 12>\u001b[1;34m()\u001b[0m\n\u001b[0;32m      9\u001b[0m RT_star \u001b[38;5;241m=\u001b[39m \u001b[38;5;241m5\u001b[39m\n\u001b[0;32m     10\u001b[0m RT_review \u001b[38;5;241m=\u001b[39m \u001b[38;5;124m'\u001b[39m\u001b[38;5;124m잘 먹었습니다.\u001b[39m\u001b[38;5;124m'\u001b[39m\n\u001b[1;32m---> 12\u001b[0m whogi \u001b[38;5;241m=\u001b[39m \u001b[43mRT\u001b[49m\u001b[43m(\u001b[49m\u001b[43mRT_Name\u001b[49m\u001b[43m,\u001b[49m\u001b[43m \u001b[49m\u001b[43mRT_ID\u001b[49m\u001b[43m,\u001b[49m\u001b[43m \u001b[49m\u001b[43mRT_gender\u001b[49m\u001b[43m,\u001b[49m\u001b[43m \u001b[49m\u001b[43mRT_age\u001b[49m\u001b[43m,\u001b[49m\u001b[43m \u001b[49m\u001b[43mRT_star\u001b[49m\u001b[43m,\u001b[49m\u001b[43m \u001b[49m\u001b[43mRT_review\u001b[49m\u001b[43m \u001b[49m\u001b[43m)\u001b[49m\n\u001b[0;32m     13\u001b[0m RT_info[RT_Name] \u001b[38;5;241m=\u001b[39m whogi\n",
      "\u001b[1;31mTypeError\u001b[0m: __init__() missing 2 required positional arguments: 'review' and 'loc'"
     ]
    }
   ],
   "source": [
    "RT_info = {}\n",
    "\n",
    "name = str()\n",
    "ID = '익명'\n",
    "gender = ' '\n",
    "age = 20 # 출력시 뒤에 '대'를 붙여줄겨 평균연령대 계산을 함축적으로 할꺼라서\n",
    "star = 5\n",
    "review = '잘 먹었습니다.'\n",
    "\n",
    "wg = RT(name, ID, gender, age, star, review )\n",
    "wg_RT[name] = wg"
   ]
  }
 ],
 "metadata": {
  "hide_input": false,
  "kernelspec": {
   "display_name": "Python 3 (ipykernel)",
   "language": "python",
   "name": "python3"
  },
  "language_info": {
   "codemirror_mode": {
    "name": "ipython",
    "version": 3
   },
   "file_extension": ".py",
   "mimetype": "text/x-python",
   "name": "python",
   "nbconvert_exporter": "python",
   "pygments_lexer": "ipython3",
   "version": "3.9.7"
  },
  "toc": {
   "base_numbering": 1,
   "nav_menu": {},
   "number_sections": true,
   "sideBar": true,
   "skip_h1_title": false,
   "title_cell": "Table of Contents",
   "title_sidebar": "Contents",
   "toc_cell": false,
   "toc_position": {},
   "toc_section_display": true,
   "toc_window_display": false
  }
 },
 "nbformat": 4,
 "nbformat_minor": 5
}
